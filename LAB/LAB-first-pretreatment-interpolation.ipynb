{
 "cells": [
  {
   "cell_type": "code",
   "execution_count": 1,
   "id": "c148ee8b-cad4-4e36-8495-7d945877ac58",
   "metadata": {
    "tags": []
   },
   "outputs": [],
   "source": [
    "#interpolate missing values\n",
    "\n",
    "import pandas as pd\n",
    "\n",
    "# Read the CSV file into a DataFrame\n",
    "df = pd.read_csv('LABS-raw.csv')\n",
    "\n",
    "# Combine the \"Year\", \"Month\", and \"Day\" columns into a single datetime column\n",
    "df['time_column'] = pd.to_datetime(df[['Year', 'Month', 'Day']])\n",
    "\n",
    "# Sort the DataFrame by the 'time_column'\n",
    "df = df.sort_values('time_column')\n",
    "\n",
    "# Interpolate missing values using the 'time_column' as the index\n",
    "df = df.set_index('time_column')\n",
    "df = df.interpolate(method='time')\n",
    "start_date = '2020-01-01'\n",
    "end_date = '2020-04-20'\n",
    "df.loc[(df.index >= start_date) & (df.index <= end_date), 'Dig1-VFA_mgL'] = 2245\n",
    "df.loc[(df.index >= start_date) & (df.index <= end_date), 'Dig2-VFA_mgL'] = 2232\n",
    "\n",
    "df['Dig1-FOS-TAC']=df['Dig1-VFA_mgL']/df['Dig1-alk_mgL']\n",
    "df['Dig2-FOS-TAC']=df['Dig2-VFA_mgL']/df['Dig2-alk_mgL']\n",
    "\n",
    "# Reset the index to revert 'time_column' back to a regular column\n",
    "df = df.reset_index()\n",
    "\n",
    "df.head\n",
    "\n",
    "# Export the updated DataFrame to a new CSV file\n",
    "df.to_csv('LABS-interpolated.csv', index=False)"
   ]
  }
 ],
 "metadata": {
  "kernelspec": {
   "display_name": "Python 3 (ipykernel)",
   "language": "python",
   "name": "python3"
  },
  "language_info": {
   "codemirror_mode": {
    "name": "ipython",
    "version": 3
   },
   "file_extension": ".py",
   "mimetype": "text/x-python",
   "name": "python",
   "nbconvert_exporter": "python",
   "pygments_lexer": "ipython3",
   "version": "3.11.4"
  }
 },
 "nbformat": 4,
 "nbformat_minor": 5
}
