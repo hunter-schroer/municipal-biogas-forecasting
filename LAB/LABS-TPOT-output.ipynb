{
 "cells": [
  {
   "cell_type": "code",
   "execution_count": 1,
   "id": "ad6a8cac-a0c2-45ea-b9f0-2cfbd57db127",
   "metadata": {
    "tags": []
   },
   "outputs": [
    {
     "data": {
      "text/html": [
       "<style>#sk-container-id-1 {color: black;background-color: white;}#sk-container-id-1 pre{padding: 0;}#sk-container-id-1 div.sk-toggleable {background-color: white;}#sk-container-id-1 label.sk-toggleable__label {cursor: pointer;display: block;width: 100%;margin-bottom: 0;padding: 0.3em;box-sizing: border-box;text-align: center;}#sk-container-id-1 label.sk-toggleable__label-arrow:before {content: \"▸\";float: left;margin-right: 0.25em;color: #696969;}#sk-container-id-1 label.sk-toggleable__label-arrow:hover:before {color: black;}#sk-container-id-1 div.sk-estimator:hover label.sk-toggleable__label-arrow:before {color: black;}#sk-container-id-1 div.sk-toggleable__content {max-height: 0;max-width: 0;overflow: hidden;text-align: left;background-color: #f0f8ff;}#sk-container-id-1 div.sk-toggleable__content pre {margin: 0.2em;color: black;border-radius: 0.25em;background-color: #f0f8ff;}#sk-container-id-1 input.sk-toggleable__control:checked~div.sk-toggleable__content {max-height: 200px;max-width: 100%;overflow: auto;}#sk-container-id-1 input.sk-toggleable__control:checked~label.sk-toggleable__label-arrow:before {content: \"▾\";}#sk-container-id-1 div.sk-estimator input.sk-toggleable__control:checked~label.sk-toggleable__label {background-color: #d4ebff;}#sk-container-id-1 div.sk-label input.sk-toggleable__control:checked~label.sk-toggleable__label {background-color: #d4ebff;}#sk-container-id-1 input.sk-hidden--visually {border: 0;clip: rect(1px 1px 1px 1px);clip: rect(1px, 1px, 1px, 1px);height: 1px;margin: -1px;overflow: hidden;padding: 0;position: absolute;width: 1px;}#sk-container-id-1 div.sk-estimator {font-family: monospace;background-color: #f0f8ff;border: 1px dotted black;border-radius: 0.25em;box-sizing: border-box;margin-bottom: 0.5em;}#sk-container-id-1 div.sk-estimator:hover {background-color: #d4ebff;}#sk-container-id-1 div.sk-parallel-item::after {content: \"\";width: 100%;border-bottom: 1px solid gray;flex-grow: 1;}#sk-container-id-1 div.sk-label:hover label.sk-toggleable__label {background-color: #d4ebff;}#sk-container-id-1 div.sk-serial::before {content: \"\";position: absolute;border-left: 1px solid gray;box-sizing: border-box;top: 0;bottom: 0;left: 50%;z-index: 0;}#sk-container-id-1 div.sk-serial {display: flex;flex-direction: column;align-items: center;background-color: white;padding-right: 0.2em;padding-left: 0.2em;position: relative;}#sk-container-id-1 div.sk-item {position: relative;z-index: 1;}#sk-container-id-1 div.sk-parallel {display: flex;align-items: stretch;justify-content: center;background-color: white;position: relative;}#sk-container-id-1 div.sk-item::before, #sk-container-id-1 div.sk-parallel-item::before {content: \"\";position: absolute;border-left: 1px solid gray;box-sizing: border-box;top: 0;bottom: 0;left: 50%;z-index: -1;}#sk-container-id-1 div.sk-parallel-item {display: flex;flex-direction: column;z-index: 1;position: relative;background-color: white;}#sk-container-id-1 div.sk-parallel-item:first-child::after {align-self: flex-end;width: 50%;}#sk-container-id-1 div.sk-parallel-item:last-child::after {align-self: flex-start;width: 50%;}#sk-container-id-1 div.sk-parallel-item:only-child::after {width: 0;}#sk-container-id-1 div.sk-dashed-wrapped {border: 1px dashed gray;margin: 0 0.4em 0.5em 0.4em;box-sizing: border-box;padding-bottom: 0.4em;background-color: white;}#sk-container-id-1 div.sk-label label {font-family: monospace;font-weight: bold;display: inline-block;line-height: 1.2em;}#sk-container-id-1 div.sk-label-container {text-align: center;}#sk-container-id-1 div.sk-container {/* jupyter's `normalize.less` sets `[hidden] { display: none; }` but bootstrap.min.css set `[hidden] { display: none !important; }` so we also need the `!important` here to be able to override the default hidden behavior on the sphinx rendered scikit-learn.org. See: https://github.com/scikit-learn/scikit-learn/issues/21755 */display: inline-block !important;position: relative;}#sk-container-id-1 div.sk-text-repr-fallback {display: none;}</style><div id=\"sk-container-id-1\" class=\"sk-top-container\"><div class=\"sk-text-repr-fallback\"><pre>Pipeline(steps=[(&#x27;minmaxscaler&#x27;, MinMaxScaler()),\n",
       "                (&#x27;linearsvr&#x27;,\n",
       "                 LinearSVR(C=20.0, epsilon=0.0001,\n",
       "                           loss=&#x27;squared_epsilon_insensitive&#x27;, random_state=42,\n",
       "                           tol=0.1))])</pre><b>In a Jupyter environment, please rerun this cell to show the HTML representation or trust the notebook. <br />On GitHub, the HTML representation is unable to render, please try loading this page with nbviewer.org.</b></div><div class=\"sk-container\" hidden><div class=\"sk-item sk-dashed-wrapped\"><div class=\"sk-label-container\"><div class=\"sk-label sk-toggleable\"><input class=\"sk-toggleable__control sk-hidden--visually\" id=\"sk-estimator-id-1\" type=\"checkbox\" ><label for=\"sk-estimator-id-1\" class=\"sk-toggleable__label sk-toggleable__label-arrow\">Pipeline</label><div class=\"sk-toggleable__content\"><pre>Pipeline(steps=[(&#x27;minmaxscaler&#x27;, MinMaxScaler()),\n",
       "                (&#x27;linearsvr&#x27;,\n",
       "                 LinearSVR(C=20.0, epsilon=0.0001,\n",
       "                           loss=&#x27;squared_epsilon_insensitive&#x27;, random_state=42,\n",
       "                           tol=0.1))])</pre></div></div></div><div class=\"sk-serial\"><div class=\"sk-item\"><div class=\"sk-estimator sk-toggleable\"><input class=\"sk-toggleable__control sk-hidden--visually\" id=\"sk-estimator-id-2\" type=\"checkbox\" ><label for=\"sk-estimator-id-2\" class=\"sk-toggleable__label sk-toggleable__label-arrow\">MinMaxScaler</label><div class=\"sk-toggleable__content\"><pre>MinMaxScaler()</pre></div></div></div><div class=\"sk-item\"><div class=\"sk-estimator sk-toggleable\"><input class=\"sk-toggleable__control sk-hidden--visually\" id=\"sk-estimator-id-3\" type=\"checkbox\" ><label for=\"sk-estimator-id-3\" class=\"sk-toggleable__label sk-toggleable__label-arrow\">LinearSVR</label><div class=\"sk-toggleable__content\"><pre>LinearSVR(C=20.0, epsilon=0.0001, loss=&#x27;squared_epsilon_insensitive&#x27;,\n",
       "          random_state=42, tol=0.1)</pre></div></div></div></div></div></div></div>"
      ],
      "text/plain": [
       "Pipeline(steps=[('minmaxscaler', MinMaxScaler()),\n",
       "                ('linearsvr',\n",
       "                 LinearSVR(C=20.0, epsilon=0.0001,\n",
       "                           loss='squared_epsilon_insensitive', random_state=42,\n",
       "                           tol=0.1))])"
      ]
     },
     "execution_count": 1,
     "metadata": {},
     "output_type": "execute_result"
    }
   ],
   "source": [
    "import numpy as np\n",
    "import pandas as pd\n",
    "from sklearn.model_selection import train_test_split\n",
    "from sklearn.pipeline import make_pipeline\n",
    "from sklearn.preprocessing import MinMaxScaler\n",
    "from sklearn.svm import LinearSVR\n",
    "from tpot.export_utils import set_param_recursive\n",
    "\n",
    "from sklearn.model_selection import TimeSeriesSplit\n",
    "\n",
    "tpot_data = pd.read_csv('LABS-LAGGED.csv')\n",
    "tpot_data['Timestamp'] = pd.to_datetime(tpot_data['Timestamp'], format='%Y-%m-%d')\n",
    "tpot_data.set_index('Timestamp', inplace=True)\n",
    "features = tpot_data.drop('Forecast', axis=1)\n",
    "features.drop(columns=['DayOfWeek','HSW-COD-load','HSW-COD-load_1', 'HSW-COD-load_2', 'HSW-COD-load_3', 'HSW-COD-load_4',\n",
    "                  'HSW-COD-load_5', 'HSW-COD-load_6', 'Dig-stability', 'Biogas_6', 'TWAS-VS-load_2', 'PS-VS-load_3'\n",
    "                  , 'PS-VS-load_5', 'PS-VS-load_6', 'TWAS-VS-load_4','TWAS-VS-load_3','SRT','PS-VS-load_1','HSW-VS-load_2'\n",
    "                  , 'Biogas_4','HSW-VS-load_5','PS-VS-load','Biogas_3','PS-VS-load_2','TWAS-VS-load_5','TWAS-VS-load_6'\n",
    "                  , 'PS-VS-load_4', 'Biogas_2','HSW-VS-load_3','HSW-VS-load_4','TWAS-VS-load','TWAS-VS-load_1','BOD-load'], inplace=True)\n",
    "feature_list = list(features.columns)\n",
    "features = np.array(features)\n",
    "training_features, testing_features, training_target, testing_target = \\\n",
    "            train_test_split(features, tpot_data['Forecast'], shuffle=False, test_size=0.2)\n",
    "cv=TimeSeriesSplit(gap=5)\n",
    "\n",
    "# Average CV score on the training set was: -562.0504895488633\n",
    "exported_pipeline = make_pipeline(\n",
    "    MinMaxScaler(),\n",
    "    LinearSVR(C=20.0, dual=True, epsilon=0.0001, loss=\"squared_epsilon_insensitive\", tol=0.1)\n",
    ")\n",
    "# Fix random state for all the steps in exported pipeline\n",
    "set_param_recursive(exported_pipeline.steps, 'random_state', 42)\n",
    "\n",
    "exported_pipeline.fit(training_features, training_target)\n",
    "\n"
   ]
  },
  {
   "cell_type": "code",
   "execution_count": 2,
   "id": "8b4088e1-e4d1-4287-a3b0-8f966757aba8",
   "metadata": {
    "tags": []
   },
   "outputs": [
    {
     "name": "stdout",
     "output_type": "stream",
     "text": [
      "Training Mean Squared Error (MSE): 504.741\n",
      "Training Root Mean Squared Error (MSE): 22.466\n",
      "Training Mean Absolute Percentage Error (MAPE): 0.331\n",
      "Training R-squared (R2) Score: 0.699\n",
      "Testing Mean Squared Error (MSE): 597.86\n",
      "Testing Root Mean Squared Error (MSE): 24.451\n",
      "Testing Mean Absolute Percentage Error (MAPE): 0.271\n",
      "Testing R-squared (R2) Score: 0.618\n",
      "Adjusted R-squared: 0.607\n",
      "6\n",
      "TeEI: 2.957\n"
     ]
    }
   ],
   "source": [
    "from sklearn.metrics import mean_squared_error, r2_score\n",
    "from sklearn.metrics import mean_absolute_percentage_error\n",
    "import math\n",
    "# Predict using the fitted model\n",
    "y_train_ml = exported_pipeline.predict(training_features)\n",
    "y_test_ml = exported_pipeline.predict(testing_features)\n",
    "\n",
    "# Calculate training and testing error\n",
    "mse_train_ml = mean_squared_error(training_target, y_train_ml)\n",
    "r2_train_ml = r2_score(training_target, y_train_ml)\n",
    "mape_train_ml = mean_absolute_percentage_error(training_target, y_train_ml)\n",
    "rmse_train = math.sqrt(mse_train_ml)\n",
    "\n",
    "mse_test_ml = mean_squared_error(testing_target, y_test_ml)\n",
    "r2_test_ml = r2_score(testing_target, y_test_ml)\n",
    "mape_test_ml = mean_absolute_percentage_error(testing_target, y_test_ml)\n",
    "rmse_test = math.sqrt(mse_test_ml)\n",
    "\n",
    "# Print training and testing error\n",
    "print(f\"Training Mean Squared Error (MSE): {round(mse_train_ml,3)}\")\n",
    "print(f\"Training Root Mean Squared Error (MSE): {round(rmse_train,3)}\")\n",
    "print(f\"Training Mean Absolute Percentage Error (MAPE): {round(mape_train_ml,3)}\")\n",
    "print(f\"Training R-squared (R2) Score: {round(r2_train_ml,3)}\")\n",
    "print(f\"Testing Mean Squared Error (MSE): {round(mse_test_ml,3)}\")\n",
    "print(f\"Testing Root Mean Squared Error (MSE): {round(rmse_test,3)}\")\n",
    "print(f\"Testing Mean Absolute Percentage Error (MAPE): {round(mape_test_ml,3)}\")\n",
    "print(f\"Testing R-squared (R2) Score: {round(r2_test_ml,3)}\")\n",
    "\n",
    "def adjusted_r2(r2, n, k):\n",
    "    return 1 - ((1 - r2) * (n - 1)) / (n - k - 1)\n",
    "\n",
    "n = len(testing_features)  # Number of samples in test data\n",
    "k = len(feature_list)  # Number of predictors in the model\n",
    "\n",
    "# Calculate Adjusted R-squared\n",
    "adjusted_r2_value = adjusted_r2(r2_test_ml, n, k)\n",
    "print(\"Adjusted R-squared:\", round(adjusted_r2_value,3))\n",
    "print(k)\n",
    "TeEI = (mape_test_ml*mape_test_ml*rmse_test)/adjusted_r2_value\n",
    "print(\"TeEI:\", round(TeEI,3))"
   ]
  }
 ],
 "metadata": {
  "kernelspec": {
   "display_name": "Python 3 (ipykernel)",
   "language": "python",
   "name": "python3"
  },
  "language_info": {
   "codemirror_mode": {
    "name": "ipython",
    "version": 3
   },
   "file_extension": ".py",
   "mimetype": "text/x-python",
   "name": "python",
   "nbconvert_exporter": "python",
   "pygments_lexer": "ipython3",
   "version": "3.11.4"
  }
 },
 "nbformat": 4,
 "nbformat_minor": 5
}
