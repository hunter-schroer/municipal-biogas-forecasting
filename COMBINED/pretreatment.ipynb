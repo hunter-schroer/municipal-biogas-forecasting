{
 "cells": [
  {
   "cell_type": "code",
   "execution_count": 3,
   "id": "de355e75-9136-4998-bafd-198dec9e1892",
   "metadata": {
    "tags": []
   },
   "outputs": [
    {
     "data": {
      "text/plain": [
       "<bound method NDFrame.head of             HSW-VS-load  HSW-VS-load_1  HSW-VS-load_6\n",
       "Timestamp                                            \n",
       "2020-01-08         0.00       0.000000           0.00\n",
       "2020-01-09         0.00       0.000000           0.00\n",
       "2020-01-10         0.00       0.000000           0.00\n",
       "2020-01-11         0.00       0.000000           0.00\n",
       "2020-01-12         0.00       0.000000           0.00\n",
       "...                 ...            ...            ...\n",
       "2023-03-27     20564.44   30350.933333      112968.75\n",
       "2023-03-28     32771.20   20564.440000       78643.66\n",
       "2023-03-29    154361.37   32771.200000       75094.80\n",
       "2023-03-30     98003.10  154361.370000       17789.80\n",
       "2023-03-31     63734.93   98003.100000       99599.90\n",
       "\n",
       "[1090 rows x 3 columns]>"
      ]
     },
     "execution_count": 3,
     "metadata": {},
     "output_type": "execute_result"
    }
   ],
   "source": [
    "import pandas as pd\n",
    "from sklearn.model_selection import train_test_split\n",
    "from sklearn.linear_model import LinearRegression\n",
    "from sklearn.metrics import mean_squared_error, mean_absolute_error\n",
    "from sklearn import preprocessing\n",
    "import matplotlib.pyplot as plt\n",
    "from datetime import datetime\n",
    "import numpy as np\n",
    "import math\n",
    "\n",
    "data = pd.read_csv('LABS-for-combined.csv')\n",
    "data['Timestamp'] = pd.to_datetime(data['Timestamp'], format='%Y-%m-%d')\n",
    "data.set_index('Timestamp', inplace=True)\n",
    "data.drop(columns=['DayOfWeek','HSW-COD-load','HSW-COD-load_1', 'HSW-COD-load_2', 'HSW-COD-load_3', 'HSW-COD-load_4',\n",
    "                  'HSW-COD-load_5', 'HSW-COD-load_6', 'Dig-stability', 'Biogas_6', 'TWAS-VS-load_2', 'PS-VS-load_3'\n",
    "                  , 'PS-VS-load_5', 'PS-VS-load_6', 'TWAS-VS-load_4','TWAS-VS-load_3','SRT','PS-VS-load_1','HSW-VS-load_2'\n",
    "                  , 'Biogas_4','HSW-VS-load_5','PS-VS-load','Biogas_3','PS-VS-load_2','TWAS-VS-load_5','TWAS-VS-load_6'\n",
    "                  , 'PS-VS-load_4', 'Biogas_2','HSW-VS-load_3','HSW-VS-load_4','TWAS-VS-load','TWAS-VS-load_1','BOD-load','Biogas','Biogas_1','Biogas_5'],inplace=True)\n",
    "\n",
    "scada = pd.read_csv('SCADA-FINAL.csv')\n",
    "scada['Timestamp'] = pd.to_datetime(scada['Timestamp'], format='%Y-%m-%d %H:%M:%S')\n",
    "scada.set_index('Timestamp', inplace=True)\n",
    "scada.drop(columns=['day_sin', 'day_cos', 'D2_TEMPERATURE', 'Q-influent_MGD'],inplace=True)\n",
    "\n",
    "data.head"
   ]
  },
  {
   "cell_type": "code",
   "execution_count": 4,
   "id": "54d50ef1-9d05-49e0-9f77-13976892b8e3",
   "metadata": {
    "tags": []
   },
   "outputs": [],
   "source": [
    "merged_data = pd.merge_asof(scada, data, left_index=True, right_index=True, direction='backward')\n",
    "\n",
    "# Forward fill the NaN values with the daily data\n",
    "merged_data.fillna(method='ffill', inplace=True)"
   ]
  },
  {
   "cell_type": "code",
   "execution_count": 5,
   "id": "a319da1a-59d8-46c3-8272-6a5298baf4f2",
   "metadata": {
    "tags": []
   },
   "outputs": [
    {
     "data": {
      "text/plain": [
       "<bound method NDFrame.head of                      D1_TEMPERATURE  Q-PS_MGD  Q-TWAS_GPM  V-Boiler_FT3  \\\n",
       "Timestamp                                                                 \n",
       "2022-03-23 00:00:00           95.50      0.08        0.17      59828.03   \n",
       "2022-03-23 00:01:00           95.59    314.37        0.17         55.60   \n",
       "2022-03-23 00:02:00           95.43    308.00        0.17        115.77   \n",
       "2022-03-23 00:03:00           95.57      0.08        0.17        176.05   \n",
       "2022-03-23 00:04:00           95.50      0.08        0.17        236.30   \n",
       "...                             ...       ...         ...           ...   \n",
       "2023-02-27 20:00:00           94.19     34.68        0.17      63144.22   \n",
       "2023-02-27 20:01:00           94.11    222.74        0.17      63196.41   \n",
       "2023-02-27 20:02:00           94.15    191.81        0.17      63248.59   \n",
       "2023-02-27 20:03:00           94.13    203.25        0.17      63300.79   \n",
       "2023-02-27 20:04:00           94.19    253.19        0.19      63352.95   \n",
       "\n",
       "                     H-HSW_ft  H-Dig1_FT  H-Dig2_FT  Biogas_burner  \\\n",
       "Timestamp                                                            \n",
       "2022-03-23 00:00:00      4.44       6.27       5.25     129.219315   \n",
       "2022-03-23 00:01:00      4.45       6.28       5.25     128.303742   \n",
       "2022-03-23 00:02:00      4.46       6.28       5.25     127.937492   \n",
       "2022-03-23 00:03:00      4.48       6.28       5.25     126.045288   \n",
       "2022-03-23 00:04:00      4.47       6.28       5.25     127.754372   \n",
       "...                       ...        ...        ...            ...   \n",
       "2023-02-27 20:00:00      5.69       6.65       4.82     126.045288   \n",
       "2023-02-27 20:01:00      5.69       6.65       4.82     123.359581   \n",
       "2023-02-27 20:02:00      5.68       6.65       4.83     123.786850   \n",
       "2023-02-27 20:03:00      5.69       6.65       4.84     123.542694   \n",
       "2023-02-27 20:04:00      5.69       6.65       4.84     122.993347   \n",
       "\n",
       "                     Biogas_boiler  Q-HSW_GPM  ...  Q-PS_MGD_prev_24h_3  \\\n",
       "Timestamp                                      ...                        \n",
       "2022-03-23 00:00:00      59.051456      17.67  ...             7.451465   \n",
       "2022-03-23 00:01:00      59.959713      17.67  ...             7.351535   \n",
       "2022-03-23 00:02:00      60.289322      17.95  ...             7.270687   \n",
       "2022-03-23 00:03:00      60.208755      17.66  ...             7.454326   \n",
       "2022-03-23 00:04:00      60.289322      17.66  ...             7.617083   \n",
       "...                            ...        ...  ...                  ...   \n",
       "2023-02-27 20:00:00      52.246841      20.68  ...            11.801507   \n",
       "2023-02-27 20:01:00      52.085697      20.70  ...            11.797215   \n",
       "2023-02-27 20:02:00      52.254166      20.68  ...            11.725958   \n",
       "2023-02-27 20:03:00      52.180920      20.66  ...            11.725958   \n",
       "2023-02-27 20:04:00      52.027100      20.69  ...            11.725958   \n",
       "\n",
       "                     Q-PS_MGD_prev_24h_4  Q-TWAS_GPM_prev_24h_1  \\\n",
       "Timestamp                                                         \n",
       "2022-03-23 00:00:00             7.858562               9.039250   \n",
       "2022-03-23 00:01:00             7.779618               9.039250   \n",
       "2022-03-23 00:02:00             7.737417               9.039264   \n",
       "2022-03-23 00:03:00             7.737389               9.039278   \n",
       "2022-03-23 00:04:00             7.737389               9.039278   \n",
       "...                                  ...                    ...   \n",
       "2023-02-27 20:00:00            14.764264              13.753083   \n",
       "2023-02-27 20:01:00            14.838285              13.787750   \n",
       "2023-02-27 20:02:00            14.947188              13.822257   \n",
       "2023-02-27 20:03:00            14.777563              13.856660   \n",
       "2023-02-27 20:04:00            14.594854              13.891243   \n",
       "\n",
       "                     Q-TWAS_GPM_prev_24h_2  Q-TWAS_GPM_prev_24h_3  \\\n",
       "Timestamp                                                           \n",
       "2022-03-23 00:00:00               8.843972               8.970500   \n",
       "2022-03-23 00:01:00               8.843986               8.926444   \n",
       "2022-03-23 00:02:00               8.843986               8.926458   \n",
       "2022-03-23 00:03:00               8.843972               8.926472   \n",
       "2022-03-23 00:04:00               8.843986               8.926472   \n",
       "...                                    ...                    ...   \n",
       "2023-02-27 20:00:00              14.619479              15.565743   \n",
       "2023-02-27 20:01:00              14.619479              15.534035   \n",
       "2023-02-27 20:02:00              14.619493              15.502257   \n",
       "2023-02-27 20:03:00              14.619507              15.470437   \n",
       "2023-02-27 20:04:00              14.619521              15.438646   \n",
       "\n",
       "                     Q-TWAS_GPM_prev_24h_4    Forecast    HSW-VS-load  \\\n",
       "Timestamp                                                               \n",
       "2022-03-23 00:00:00               9.392514  173.213554  201481.790000   \n",
       "2022-03-23 00:01:00               9.436556  173.203540  201481.790000   \n",
       "2022-03-23 00:02:00               9.436528  173.192677  201481.790000   \n",
       "2022-03-23 00:03:00               9.436514  173.182309  201481.790000   \n",
       "2022-03-23 00:04:00               9.436500  173.168948  201481.790000   \n",
       "...                                    ...         ...            ...   \n",
       "2023-02-27 20:00:00              17.561549  184.574614   27291.646667   \n",
       "2023-02-27 20:01:00              17.593257  184.581169   27291.646667   \n",
       "2023-02-27 20:02:00              17.625021  184.584392   27291.646667   \n",
       "2023-02-27 20:03:00              17.656826  184.589704   27291.646667   \n",
       "2023-02-27 20:04:00              17.688604  184.597115   27291.646667   \n",
       "\n",
       "                     HSW-VS-load_1  HSW-VS-load_6  \n",
       "Timestamp                                          \n",
       "2022-03-23 00:00:00  207743.320000      176906.44  \n",
       "2022-03-23 00:01:00  207743.320000      176906.44  \n",
       "2022-03-23 00:02:00  207743.320000      176906.44  \n",
       "2022-03-23 00:03:00  207743.320000      176906.44  \n",
       "2022-03-23 00:04:00  207743.320000      176906.44  \n",
       "...                            ...            ...  \n",
       "2023-02-27 20:00:00   27370.933333           0.00  \n",
       "2023-02-27 20:01:00   27370.933333           0.00  \n",
       "2023-02-27 20:02:00   27370.933333           0.00  \n",
       "2023-02-27 20:03:00   27370.933333           0.00  \n",
       "2023-02-27 20:04:00   27370.933333           0.00  \n",
       "\n",
       "[491761 rows x 40 columns]>"
      ]
     },
     "execution_count": 5,
     "metadata": {},
     "output_type": "execute_result"
    }
   ],
   "source": [
    "merged_data.head"
   ]
  },
  {
   "cell_type": "code",
   "execution_count": null,
   "id": "8207e6e7-f570-421b-ab94-98999adc7ceb",
   "metadata": {
    "tags": []
   },
   "outputs": [],
   "source": [
    "#merged_data.plot(subplots=True, figsize=(12, 50))"
   ]
  },
  {
   "cell_type": "code",
   "execution_count": 6,
   "id": "c7ebdd5a-43a8-40a5-a2e9-7d4818378c86",
   "metadata": {
    "tags": []
   },
   "outputs": [],
   "source": [
    "merged_data.to_csv(\"Combined.csv\", index=True)"
   ]
  }
 ],
 "metadata": {
  "kernelspec": {
   "display_name": "Python 3 (ipykernel)",
   "language": "python",
   "name": "python3"
  },
  "language_info": {
   "codemirror_mode": {
    "name": "ipython",
    "version": 3
   },
   "file_extension": ".py",
   "mimetype": "text/x-python",
   "name": "python",
   "nbconvert_exporter": "python",
   "pygments_lexer": "ipython3",
   "version": "3.11.4"
  }
 },
 "nbformat": 4,
 "nbformat_minor": 5
}
