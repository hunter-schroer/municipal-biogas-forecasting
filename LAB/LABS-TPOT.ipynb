{
 "cells": [
  {
   "cell_type": "code",
   "execution_count": 1,
   "id": "eb4dabbe-73b9-435e-a120-808a088e2a4b",
   "metadata": {
    "tags": []
   },
   "outputs": [],
   "source": [
    "import tpot\n",
    "import pandas as pd\n",
    "import numpy as np\n",
    "from tpot import TPOTRegressor\n",
    "from sklearn.model_selection import TimeSeriesSplit\n",
    "from sklearn.model_selection import train_test_split"
   ]
  },
  {
   "cell_type": "code",
   "execution_count": 2,
   "id": "5e6425f6-b32c-4cfd-ab0b-6d1e2a297d5a",
   "metadata": {
    "tags": []
   },
   "outputs": [
    {
     "name": "stdout",
     "output_type": "stream",
     "text": [
      "The shape of our features is: (1089, 7)\n"
     ]
    },
    {
     "data": {
      "text/html": [
       "<div>\n",
       "<style scoped>\n",
       "    .dataframe tbody tr th:only-of-type {\n",
       "        vertical-align: middle;\n",
       "    }\n",
       "\n",
       "    .dataframe tbody tr th {\n",
       "        vertical-align: top;\n",
       "    }\n",
       "\n",
       "    .dataframe thead th {\n",
       "        text-align: right;\n",
       "    }\n",
       "</style>\n",
       "<table border=\"1\" class=\"dataframe\">\n",
       "  <thead>\n",
       "    <tr style=\"text-align: right;\">\n",
       "      <th></th>\n",
       "      <th>Biogas</th>\n",
       "      <th>HSW-VS-load</th>\n",
       "      <th>Forecast</th>\n",
       "      <th>HSW-VS-load_1</th>\n",
       "      <th>HSW-VS-load_6</th>\n",
       "      <th>Biogas_1</th>\n",
       "      <th>Biogas_5</th>\n",
       "    </tr>\n",
       "    <tr>\n",
       "      <th>Timestamp</th>\n",
       "      <th></th>\n",
       "      <th></th>\n",
       "      <th></th>\n",
       "      <th></th>\n",
       "      <th></th>\n",
       "      <th></th>\n",
       "      <th></th>\n",
       "    </tr>\n",
       "  </thead>\n",
       "  <tbody>\n",
       "    <tr>\n",
       "      <th>2020-01-07</th>\n",
       "      <td>37.3</td>\n",
       "      <td>0.0</td>\n",
       "      <td>50.7</td>\n",
       "      <td>0.0</td>\n",
       "      <td>0.0</td>\n",
       "      <td>57.8</td>\n",
       "      <td>62.8</td>\n",
       "    </tr>\n",
       "    <tr>\n",
       "      <th>2020-01-08</th>\n",
       "      <td>50.7</td>\n",
       "      <td>0.0</td>\n",
       "      <td>48.2</td>\n",
       "      <td>0.0</td>\n",
       "      <td>0.0</td>\n",
       "      <td>37.3</td>\n",
       "      <td>53.0</td>\n",
       "    </tr>\n",
       "    <tr>\n",
       "      <th>2020-01-09</th>\n",
       "      <td>48.2</td>\n",
       "      <td>0.0</td>\n",
       "      <td>56.2</td>\n",
       "      <td>0.0</td>\n",
       "      <td>0.0</td>\n",
       "      <td>50.7</td>\n",
       "      <td>41.9</td>\n",
       "    </tr>\n",
       "    <tr>\n",
       "      <th>2020-01-10</th>\n",
       "      <td>56.2</td>\n",
       "      <td>0.0</td>\n",
       "      <td>56.7</td>\n",
       "      <td>0.0</td>\n",
       "      <td>0.0</td>\n",
       "      <td>48.2</td>\n",
       "      <td>32.5</td>\n",
       "    </tr>\n",
       "    <tr>\n",
       "      <th>2020-01-11</th>\n",
       "      <td>56.7</td>\n",
       "      <td>0.0</td>\n",
       "      <td>47.4</td>\n",
       "      <td>0.0</td>\n",
       "      <td>0.0</td>\n",
       "      <td>56.2</td>\n",
       "      <td>57.8</td>\n",
       "    </tr>\n",
       "  </tbody>\n",
       "</table>\n",
       "</div>"
      ],
      "text/plain": [
       "            Biogas  HSW-VS-load  Forecast  HSW-VS-load_1  HSW-VS-load_6  \\\n",
       "Timestamp                                                                 \n",
       "2020-01-07    37.3          0.0      50.7            0.0            0.0   \n",
       "2020-01-08    50.7          0.0      48.2            0.0            0.0   \n",
       "2020-01-09    48.2          0.0      56.2            0.0            0.0   \n",
       "2020-01-10    56.2          0.0      56.7            0.0            0.0   \n",
       "2020-01-11    56.7          0.0      47.4            0.0            0.0   \n",
       "\n",
       "            Biogas_1  Biogas_5  \n",
       "Timestamp                       \n",
       "2020-01-07      57.8      62.8  \n",
       "2020-01-08      37.3      53.0  \n",
       "2020-01-09      50.7      41.9  \n",
       "2020-01-10      48.2      32.5  \n",
       "2020-01-11      56.2      57.8  "
      ]
     },
     "execution_count": 2,
     "metadata": {},
     "output_type": "execute_result"
    }
   ],
   "source": [
    "features = pd.read_csv('LABS-LAGGED.csv')\n",
    "features['Timestamp'] = pd.to_datetime(features['Timestamp'], format='%Y-%m-%d')\n",
    "features.drop(columns=['DayOfWeek','HSW-COD-load','HSW-COD-load_1', 'HSW-COD-load_2', 'HSW-COD-load_3', 'HSW-COD-load_4',\n",
    "                  'HSW-COD-load_5', 'HSW-COD-load_6', 'Dig-stability', 'Biogas_6', 'TWAS-VS-load_2', 'PS-VS-load_3'\n",
    "                  , 'PS-VS-load_5', 'PS-VS-load_6', 'TWAS-VS-load_4','TWAS-VS-load_3','SRT','PS-VS-load_1','HSW-VS-load_2'\n",
    "                  , 'Biogas_4','HSW-VS-load_5','PS-VS-load','Biogas_3','PS-VS-load_2','TWAS-VS-load_5','TWAS-VS-load_6'\n",
    "                  , 'PS-VS-load_4', 'Biogas_2','HSW-VS-load_3','HSW-VS-load_4','TWAS-VS-load','TWAS-VS-load_1','BOD-load'],inplace=True)\n",
    "features.set_index('Timestamp', inplace=True)\n",
    "\n",
    "\n",
    "print('The shape of our features is:', features.shape)\n",
    "features.head(5)"
   ]
  },
  {
   "cell_type": "code",
   "execution_count": 3,
   "id": "e0c305f5-b424-463a-9d3d-b64a7e6b09ce",
   "metadata": {
    "tags": []
   },
   "outputs": [],
   "source": [
    "labels = np.array(features['Forecast'])\n",
    "features = features.drop('Forecast', axis = 1)\n",
    "feature_list = list(features.columns)\n",
    "features = np.array(features)"
   ]
  },
  {
   "cell_type": "code",
   "execution_count": 4,
   "id": "b78279ee-ae07-4c45-a358-880cb067a5e0",
   "metadata": {
    "tags": []
   },
   "outputs": [],
   "source": [
    "x_train, x_test, y_train, y_test = train_test_split(features, labels, test_size=0.2, shuffle=False)"
   ]
  },
  {
   "cell_type": "code",
   "execution_count": null,
   "id": "4dd78e89-11ad-451d-91f8-1c986247df4c",
   "metadata": {
    "tags": []
   },
   "outputs": [],
   "source": [
    "cv = TimeSeriesSplit(gap = 5)\n",
    "model = TPOTRegressor(generations=500, population_size=100, scoring='neg_mean_squared_error', cv=cv, verbosity=2, random_state=42, n_jobs=-1)\n",
    "# perform the search\n",
    "model.fit(x_train, y_train)\n",
    "# export the best model\n",
    "model.export('LABS-tpot_biogas_best_model.py')"
   ]
  }
 ],
 "metadata": {
  "kernelspec": {
   "display_name": "Python 3 (ipykernel)",
   "language": "python",
   "name": "python3"
  },
  "language_info": {
   "codemirror_mode": {
    "name": "ipython",
    "version": 3
   },
   "file_extension": ".py",
   "mimetype": "text/x-python",
   "name": "python",
   "nbconvert_exporter": "python",
   "pygments_lexer": "ipython3",
   "version": "3.11.4"
  }
 },
 "nbformat": 4,
 "nbformat_minor": 5
}
